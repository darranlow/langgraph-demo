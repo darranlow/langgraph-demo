{
 "cells": [
  {
   "cell_type": "markdown",
   "id": "97b6924c",
   "metadata": {},
   "source": [
    "# Libraries"
   ]
  },
  {
   "cell_type": "code",
   "execution_count": 37,
   "id": "d2557e92",
   "metadata": {},
   "outputs": [],
   "source": [
    "import importlib\n",
    "import config\n",
    "import os\n",
    "importlib.reload(config)\n",
    "\n",
    "from langchain_tavily import TavilySearch\n",
    "\n",
    "from typing import Annotated\n",
    "from typing_extensions import TypedDict\n",
    "from langgraph.graph import StateGraph, START, END\n",
    "from langgraph.graph.message import add_messages\n",
    "from langchain.chat_models import init_chat_model\n",
    "\n",
    "import json\n",
    "from langchain_core.messages import ToolMessage"
   ]
  },
  {
   "cell_type": "markdown",
   "id": "37ea423f",
   "metadata": {},
   "source": [
    "# Tools"
   ]
  },
  {
   "cell_type": "code",
   "execution_count": 35,
   "id": "7281e02e",
   "metadata": {},
   "outputs": [
    {
     "data": {
      "text/plain": [
       "{'query': \"What's a 'node' in LangGraph?\",\n",
       " 'follow_up_questions': None,\n",
       " 'answer': None,\n",
       " 'images': [],\n",
       " 'results': [{'url': 'https://blog.langchain.dev/langgraph/',\n",
       "   'title': 'LangGraph - LangChain Blog',\n",
       "   'content': \"TL;DR: LangGraph is module built on top of LangChain to better enable creation of cyclical graphs, often needed for agent runtimes. This state is updated by nodes in the graph, which return operations to attributes of this state (in the form of a key-value store). After adding nodes, you can then add edges to create the graph. An example of this may be in the basic agent runtime, where we always want the model to be called after we call a tool. The state of this graph by default contains concepts that should be familiar to you if you've used LangChain agents: `input`, `chat_history`, `intermediate_steps` (and `agent_outcome` to represent the most recent agent outcome)\",\n",
       "   'score': 0.7407191,\n",
       "   'raw_content': None},\n",
       "  {'url': 'https://medium.com/@cplog/introduction-to-langgraph-a-beginners-guide-14f9be027141',\n",
       "   'title': \"Introduction to LangGraph: A Beginner's Guide - Medium\",\n",
       "   'content': '*   **Stateful Graph:** LangGraph revolves around the concept of a stateful graph, where each node in the graph represents a step in your computation, and the graph maintains a state that is passed around and updated as the computation progresses. LangGraph supports conditional edges, allowing you to dynamically determine the next node to execute based on the current state of the graph. Image 10: Introduction to AI Agent with LangChain and LangGraph: A Beginner’s Guide Image 18: How to build LLM Agent with LangGraph\\u200a—\\u200aStateGraph and Reducer Image 20: Simplest Graphs using LangGraph Framework Image 24: Building a ReAct Agent with Langgraph: A Step-by-Step Guide Image 28: Building an Agentic RAG with LangGraph: A Step-by-Step Guide',\n",
       "   'score': 0.65252984,\n",
       "   'raw_content': None}],\n",
       " 'response_time': 1.42}"
      ]
     },
     "execution_count": 35,
     "metadata": {},
     "output_type": "execute_result"
    }
   ],
   "source": [
    "os.environ['TAVILY_API_KEY'] = config.Config.TAVILY_API_KEY\n",
    "tool = TavilySearch(max_results=2)\n",
    "tools = [tool]\n",
    "tool.invoke(\"What's a 'node' in LangGraph?\")"
   ]
  },
  {
   "cell_type": "markdown",
   "id": "9170d6cb",
   "metadata": {},
   "source": [
    "# State Class"
   ]
  },
  {
   "cell_type": "code",
   "execution_count": 38,
   "id": "338bf6b2",
   "metadata": {},
   "outputs": [],
   "source": [
    "class State(TypedDict):\n",
    "    messages: Annotated[list, add_messages]\n",
    "\n",
    "class BasicToolNode:\n",
    "    \"\"\"A node that runs the tools requested in the last AIMessage.\"\"\"\n",
    "\n",
    "    def __init__(self, tools: list) -> None:\n",
    "        self.tools_by_name = {tool.name: tool for tool in tools}\n",
    "\n",
    "    def __call__(self, inputs: dict):\n",
    "        if messages := inputs.get(\"messages\", []):\n",
    "            message = messages[-1]\n",
    "        else:\n",
    "            raise ValueError(\"No message found in input\")\n",
    "        outputs = []\n",
    "        for tool_call in message.tool_calls:\n",
    "            tool_result = self.tools_by_name[tool_call[\"name\"]].invoke(\n",
    "                tool_call[\"args\"]\n",
    "            )\n",
    "            outputs.append(\n",
    "                ToolMessage(\n",
    "                    content=json.dumps(tool_result),\n",
    "                    name=tool_call[\"name\"],\n",
    "                    tool_call_id=tool_call[\"id\"],\n",
    "                )\n",
    "            )\n",
    "        return {\"messages\": outputs}"
   ]
  },
  {
   "cell_type": "markdown",
   "id": "aba18e6b",
   "metadata": {},
   "source": [
    "# Graph"
   ]
  },
  {
   "cell_type": "code",
   "execution_count": 39,
   "id": "31630c0f",
   "metadata": {},
   "outputs": [
    {
     "data": {
      "text/plain": [
       "<langgraph.graph.state.StateGraph at 0x1b0bfa75eb0>"
      ]
     },
     "execution_count": 39,
     "metadata": {},
     "output_type": "execute_result"
    }
   ],
   "source": [
    "llm = init_chat_model(\n",
    "    \"azure_openai:gpt-4.1-nano\",\n",
    "    azure_deployment=config.Config.AZURE_OPENAI_DEPLOYMENT_NAME\n",
    ")\n",
    "\n",
    "graph_builder = StateGraph(State)\n",
    "llm_with_tools = llm.bind_tools(tools)\n",
    "def chatbot(state: State):\n",
    "    return {\"messages\": [llm_with_tools.invoke(state[\"messages\"])]}\n",
    "\n",
    "tool_node = BasicToolNode(tools=[tool])\n",
    "\n",
    "graph_builder.add_node(\"chatbot\", chatbot)\n",
    "graph_builder.add_node(\"tools\", tool_node)"
   ]
  },
  {
   "cell_type": "code",
   "execution_count": 31,
   "id": "14bb2cca",
   "metadata": {},
   "outputs": [],
   "source": [
    "def route_tools(\n",
    "    state: State,\n",
    "):\n",
    "    \"\"\"\n",
    "    Use in the conditional_edge to route to the ToolNode if the last message\n",
    "    has tool calls. Otherwise, route to the end.\n",
    "    \"\"\"\n",
    "    if isinstance(state, list):\n",
    "        ai_message = state[-1]\n",
    "    elif messages := state.get(\"messages\", []):\n",
    "        ai_message = messages[-1]\n",
    "    else:\n",
    "        raise ValueError(f\"No messages found in input state to tool_edge: {state}\")\n",
    "    if hasattr(ai_message, \"tool_calls\") and len(ai_message.tool_calls) > 0:\n",
    "        return \"tools\"\n",
    "    return END\n",
    "\n",
    "\n",
    "# The `tools_condition` function returns \"tools\" if the chatbot asks to use a tool, and \"END\" if\n",
    "# it is fine directly responding. This conditional routing defines the main agent loop.\n",
    "graph_builder.add_conditional_edges(\n",
    "    \"chatbot\",\n",
    "    route_tools,\n",
    "    # The following dictionary lets you tell the graph to interpret the condition's outputs as a specific node\n",
    "    # It defaults to the identity function, but if you\n",
    "    # want to use a node named something else apart from \"tools\",\n",
    "    # You can update the value of the dictionary to something else\n",
    "    # e.g., \"tools\": \"my_tools\"\n",
    "    {\"tools\": \"tools\", END: END},\n",
    ")\n",
    "# Any time a tool is called, we return to the chatbot to decide the next step\n",
    "graph_builder.add_edge(\"tools\", \"chatbot\")\n",
    "graph_builder.add_edge(START, \"chatbot\")\n",
    "graph = graph_builder.compile()"
   ]
  },
  {
   "cell_type": "markdown",
   "id": "ed96db66",
   "metadata": {},
   "source": [
    "# Visualise graph"
   ]
  },
  {
   "cell_type": "code",
   "execution_count": 40,
   "id": "5d174c92",
   "metadata": {},
   "outputs": [
    {
     "data": {
      "image/png": "[encoded data removed]",
      "text/plain": [
       "<IPython.core.display.Image object>"
      ]
     },
     "metadata": {},
     "output_type": "display_data"
    }
   ],
   "source": [
    "from IPython.display import Image, display\n",
    "\n",
    "try:\n",
    "    display(Image(graph.get_graph().draw_mermaid_png()))\n",
    "except Exception:\n",
    "    # This requires some extra dependencies and is optional\n",
    "    pass"
   ]
  },
  {
   "cell_type": "markdown",
   "id": "c050ad4f",
   "metadata": {},
   "source": [
    "# Main"
   ]
  },
  {
   "cell_type": "code",
   "execution_count": 41,
   "id": "ce5bdb7f",
   "metadata": {},
   "outputs": [
    {
     "name": "stdout",
     "output_type": "stream",
     "text": [
      "Assistant: \n",
      "Assistant: {\"query\": \"current weather in Singapore\", \"follow_up_questions\": null, \"answer\": null, \"images\": [], \"results\": [{\"title\": \"Weather in Singapore\", \"url\": \"https://www.weatherapi.com/\", \"content\": \"{'location': {'name': 'Singapore', 'region': '', 'country': 'Singapore', 'lat': 1.293, 'lon': 103.856, 'tz_id': 'Asia/Singapore', 'localtime_epoch': 1752306516, 'localtime': '2025-07-12 15:48'}, 'current': {'last_updated_epoch': 1752306300, 'last_updated': '2025-07-12 15:45', 'temp_c': 28.0, 'temp_f': 82.4, 'is_day': 1, 'condition': {'text': 'Patchy light drizzle', 'icon': '//cdn.weatherapi.com/weather/64x64/day/263.png', 'code': 1150}, 'wind_mph': 2.7, 'wind_kph': 4.3, 'wind_degree': 256, 'wind_dir': 'WSW', 'pressure_mb': 1007.0, 'pressure_in': 29.74, 'precip_mm': 0.33, 'precip_in': 0.01, 'humidity': 79, 'cloud': 25, 'feelslike_c': 32.6, 'feelslike_f': 90.7, 'windchill_c': 24.7, 'windchill_f': 76.4, 'heatindex_c': 26.8, 'heatindex_f': 80.2, 'dewpoint_c': 21.4, 'dewpoint_f': 70.5, 'vis_km': 10.0, 'vis_miles': 6.0, 'uv': 3.8, 'gust_mph': 3.9, 'gust_kph': 6.3}}\", \"score\": 0.965556, \"raw_content\": null}, {\"url\": \"https://world-weather.info/forecast/singapore/singapore/july-2025/\", \"title\": \"Weather in Singapore in July 2025 - Detailed Weather Forecast for a ...\", \"content\": \"Weather in Singapore in July 2025. Singapore Weather Forecast for July ... Saturday, 12 July. +82\\u00b0. Day. +86\\u00b0. Light intensity drizzle. Sunday, 13 July. +82\", \"score\": 0.9016528, \"raw_content\": null}], \"response_time\": 1.68}\n",
      "Assistant: The current weather in Singapore is approximately 28°C with patchy light drizzle. The humidity is around 79%, and there is a light breeze coming from the WSW at about 4.3 km/h.\n",
      "Assistant: I do not have real-time capabilities to tell the current time. Please check the clock on your device or ask a smart home assistant for the current time.\n",
      "Assistant: \n",
      "Assistant: {\"query\": \"latest news on technology advancements in 2024\", \"follow_up_questions\": null, \"answer\": null, \"images\": [], \"results\": [{\"url\": \"https://www.weforum.org/stories/2024/12/top-technology-stories-from-2024/\", \"title\": \"The top technology stories from 2024 - The World Economic Forum\", \"content\": \"1. The top emerging technologies from 2024 \\u00b7 2. Developing, scaling and governing AI use \\u00b7 3. Developments in space technology \\u00b7 4. Meteoric rise\", \"score\": 0.7132923, \"raw_content\": null}, {\"url\": \"https://www.bbc.com/innovation\", \"title\": \"BBC Innovation | Technology, Health, Environment, AI\", \"content\": \"BBC Innovation brings you the latest in Technology news and coverage from around the world, including health, environment, AI, and more.\", \"score\": 0.20277487, \"raw_content\": null}], \"response_time\": 1.35}\n",
      "Assistant: I found some recent articles on the latest news about technology advancements in 2024. Notably, the World Economic Forum highlights top emerging technologies, developments in AI governance, space technology progress, and significant breakthroughs across various tech fields. Additionally, BBC Innovation covers broader topics including health, environment, and AI. Would you like more detailed information from any of these sources?\n",
      "Assistant: \n",
      "Assistant: {\"query\": \"latest advancements in renewable energy technology\", \"follow_up_questions\": null, \"answer\": null, \"images\": [], \"results\": [{\"url\": \"https://smartenergy.com/innovations-in-renewable-energy-whats-new-in-2024/\", \"title\": \"Innovations in Renewable Energy: What's New in 2024 | SmartEnergy\", \"content\": \"Innovations in Renewable Energy: What's New in 2024 \\u00b7 1. Next-Generation Solar Panels \\u00b7 2. Floating Wind Farms \\u00b7 3. Green Hydrogen Production \\u00b7 4.\", \"score\": 0.5996498, \"raw_content\": null}, {\"url\": \"https://www.sciencedaily.com/news/earth_climate/renewable_energy/\", \"title\": \"Renewable Energy News - ScienceDaily\", \"content\": \"Mar. 12, 2025 \\u2014 Scientists have developed an innovative solar-powered method to transform sewage sludge -- a by-product of wastewater treatment -- into green\", \"score\": 0.5377946, \"raw_content\": null}], \"response_time\": 2.47}\n",
      "Assistant: Here are some recent trends and advancements in the fields of electric vehicles and renewable energy technology:\n",
      "\n",
      "**Electric Vehicles (EVs):**\n",
      "- Expectations for 2025 include lower prices for electric cars, expanded charging station networks, and greater compatibility among charging plugs.\n",
      "- In 2024, electric car sales exceeded 17 million worldwide, representing a growth of more than 25%. The additional 3.5 million cars sold in 2024 compared to 2023 reflects the rapid expansion of the market.\n",
      "\n",
      "**Renewable Energy Technology:**\n",
      "- In 2024, several innovations have been introduced, including next-generation solar panels, floating wind farms, and advancements in green hydrogen production.\n",
      "- Scientists have also developed new solar-powered methods to convert sewage sludge— a by-product of wastewater treatment— into usable green energy.\n",
      "\n",
      "Would you like more detailed information on any of these topics?\n",
      "Goodbye!\n"
     ]
    }
   ],
   "source": [
    "def stream_graph_updates(user_input: str):\n",
    "    for event in graph.stream({\"messages\": [{\"role\": \"user\", \"content\": user_input}]}):\n",
    "        for value in event.values():\n",
    "            print(\"Assistant:\", value[\"messages\"][-1].content)\n",
    "\n",
    "while True:\n",
    "    try:\n",
    "        user_input = input(\"User: \")\n",
    "        if user_input.lower() in [\"quit\", \"exit\", \"q\"]:\n",
    "            print(\"Goodbye!\")\n",
    "            break\n",
    "\n",
    "        stream_graph_updates(user_input)\n",
    "    except:\n",
    "        # fallback if input() is not available\n",
    "        user_input = \"What do you know about LangGraph?\"\n",
    "        print(\"User: \" + user_input)\n",
    "        stream_graph_updates(user_input)\n",
    "        break"
   ]
  }
 ],
 "metadata": {
  "kernelspec": {
   "display_name": "langgraph",
   "language": "python",
   "name": "python3"
  },
  "language_info": {
   "codemirror_mode": {
    "name": "ipython",
    "version": 3
   },
   "file_extension": ".py",
   "mimetype": "text/x-python",
   "name": "python",
   "nbconvert_exporter": "python",
   "pygments_lexer": "ipython3",
   "version": "3.12.0"
  }
 },
 "nbformat": 4,
 "nbformat_minor": 5
}
