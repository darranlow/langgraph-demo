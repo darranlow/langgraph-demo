{
 "cells": [
  {
   "cell_type": "markdown",
   "id": "29b66628",
   "metadata": {},
   "source": [
    "# Libraries"
   ]
  },
  {
   "cell_type": "code",
   "execution_count": null,
   "id": "79153779",
   "metadata": {},
   "outputs": [
    {
     "data": {
      "text/plain": [
       "{'api_key': '3B7qOUWV69M8zdiTf6yIPXkgWFpcnv3BFYCK5ZAdkY3Zp9mbDXMdJQQJ99BGACYeBjFXJ3w3AAABACOG3Ci8',\n",
       " 'endpoint': 'https://wh-autogen.openai.azure.com/',\n",
       " 'deployment_name': 'gpt4-nano',\n",
       " 'api_version': '2024-12-01-preview'}"
      ]
     },
     "execution_count": 6,
     "metadata": {},
     "output_type": "execute_result"
    }
   ],
   "source": [
    "from typing import Annotated\n",
    "\n",
    "from typing_extensions import TypedDict\n",
    "\n",
    "from langgraph.graph import StateGraph, START, END\n",
    "from langgraph.graph.message import add_messages\n",
    "\n",
    "from IPython.display import Image, display\n",
    "\n",
    "import os\n",
    "from langchain.chat_models import init_chat_model\n",
    "\n",
    "import sys\n",
    "from pathlib import Path\n",
    "\n",
    "# Get the current working directory (where you're running the notebook)\n",
    "current_dir = Path.cwd()\n",
    "# Go up one level to get to the parent directory where config.py is\n",
    "parent_dir = current_dir.parent\n",
    "sys.path.insert(0, str(parent_dir))"
   ]
  },
  {
   "cell_type": "markdown",
   "id": "0639b752",
   "metadata": {},
   "source": [
    "# Class"
   ]
  },
  {
   "cell_type": "code",
   "execution_count": 12,
   "id": "2e49fe6f",
   "metadata": {},
   "outputs": [],
   "source": [
    "\n",
    "class State(TypedDict):\n",
    "    # Messages have the type \"list\". The `add_messages` function\n",
    "    # in the annotation defines how this state key should be updated\n",
    "    # (in this case, it appends messages to the list, rather than overwriting them)\n",
    "    messages: Annotated[list, add_messages]"
   ]
  },
  {
   "cell_type": "markdown",
   "id": "0917922f",
   "metadata": {},
   "source": [
    "# Main"
   ]
  },
  {
   "cell_type": "code",
   "execution_count": null,
   "id": "05da15a2",
   "metadata": {},
   "outputs": [
    {
     "data": {
      "image/png": "[encoded data removed]",
      "text/plain": [
       "<IPython.core.display.Image object>"
      ]
     },
     "metadata": {},
     "output_type": "display_data"
    }
   ],
   "source": [
    "graph_builder = StateGraph(State)\n",
    "\n",
    "\n",
    "\n",
    "llm = init_chat_model(\n",
    "    \"azure_openai:gpt-4.1\",\n",
    "    azure_deployment=os.environ[\"AZURE_OPENAI_DEPLOYMENT_NAME\"],\n",
    ")\n",
    "\n",
    "def chatbot(state: State):\n",
    "    return {\"messages\": [llm.invoke(state[\"messages\"])]}\n",
    "\n",
    "# The first argument is the unique node name\n",
    "# The second argument is the function or object that will be called whenever\n",
    "# the node is used.\n",
    "graph_builder.add_node(\"chatbot\", chatbot)\n",
    "graph_builder.add_edge(START, \"chatbot\")\n",
    "graph_builder.add_edge(\"chatbot\", END)\n",
    "graph = graph_builder.compile()\n",
    "display(Image(graph.get_graph().draw_mermaid_png()))"
   ]
  },
  {
   "cell_type": "code",
   "execution_count": 16,
   "id": "5b8a2554",
   "metadata": {},
   "outputs": [
    {
     "name": "stdout",
     "output_type": "stream",
     "text": [
      "Assistant: Hello! How can I assist you today?\n",
      "Assistant: Hello! It looks like your message didn't include any text. How can I assist you today?\n",
      "Assistant: Hello! It looks like your message didn't include any text. How can I assist you today?\n",
      "Assistant: I'm unable to provide real-time weather updates. For the current weather in Singapore, I recommend checking a reliable weather service such as the Weather Channel, AccuWeather, or a weather app on your device.\n",
      "Assistant: LangChain and LangGraph are both frameworks related to language models and data processing, but they serve different purposes and have different functionalities. Here's a comparison to clarify their differences:\n",
      "\n",
      "**1. Purpose and Core Functionality**\n",
      "\n",
      "- **LangChain:**\n",
      "  - Focuses on building end-to-end language model applications.\n",
      "  - Provides tools for chaining multiple language model prompts, integrating with external data sources, memory, agents, and more.\n",
      "  - Supports designing conversational agents, question-answering systems, and automation workflows involving language models.\n",
      "  - Emphasizes composability, allowing developers to create complex pipelines with prompts, tools, memory, and control flow.\n",
      "\n",
      "- **LangGraph:**\n",
      "  - (Based on available information up to October 2023, if \"LangGraph\" is a newer or less common framework, the following is a general interpretation.)\n",
      "  - Likely focuses on representing, visualizing, or managing language model workflows or data as graphs.\n",
      "  - May be used for mapping dependencies, data flow, or model interactions in a graph structure.\n",
      "  - Could serve as a visual or programmatic way to structure language model pipelines or to analyze complex data relationships.\n",
      "\n",
      "**2. Typical Use Cases**\n",
      "\n",
      "- **LangChain:**\n",
      "  - Building chatbots and virtual assistants.\n",
      "  - Developing question-answering systems utilizing external knowledge bases.\n",
      "  - Automating multi-step workflows with language models.\n",
      "  - Integrating LLMs with APIs, databases, and other tools.\n",
      "\n",
      "- **LangGraph:**\n",
      "  - Visualizing language model workflows.\n",
      "  - Managing complex dependencies between various components in a pipeline.\n",
      "  - Possibly aiding in debugging or designing models and data flows through graph representations.\n",
      "\n",
      "**3. Integration and Extensibility**\n",
      "\n",
      "- **LangChain:**\n",
      "  - Modular with components like prompts, memory, agents, tools, and chains.\n",
      "  - Supports multiple LLM providers and custom integrations.\n",
      "  - Facilitates rapid prototype development and scaling.\n",
      "\n",
      "- **LangGraph:**\n",
      "  - Likely provides mechanisms to define, visualize, or analyze workflows as graphs.\n",
      "  - May be used in conjunction with other frameworks like LangChain but is more focused on the structure than on prompt design or external integrations.\n",
      "\n",
      "---\n",
      "\n",
      "**Summary:**\n",
      "\n",
      "| Aspect                 | LangChain                                              | LangGraph                                           |\n",
      "|------------------------|--------------------------------------------------------|-----------------------------------------------------|\n",
      "| Main Focus             | Building language model applications and pipelines   | Visualizing or managing workflows as graphs       |\n",
      "| Purpose                | Prompt chaining, tool integration, memory, agents    | Representing and analyzing pipeline structure     |\n",
      "| Use Cases              | Chatbots, QA systems, automation workflows           | Workflow visualization, dependency management     |\n",
      "| Integration            | Modular, supports multiple LLMs and tools            | Likely focused on workflow structure visualization|\n",
      "\n",
      "---\n",
      "\n",
      "**In essence:**\n",
      "\n",
      "- **LangChain** is a comprehensive framework for building and orchestrating language model applications.\n",
      "- **LangGraph** appears to be a tool or approach related to graph-based visualization or management of workflows, possibly complementing frameworks like LangChain.\n",
      "\n",
      "**Note:** If \"LangGraph\" is a newly emerging framework post-2023, I recommend checking the latest documentation for precise details.\n",
      "Assistant: It seems like you might be referring to \"exit\" or perhaps \"exity\" is a typo. Could you please clarify what you mean or provide more context so I can assist you better?\n",
      "Goodbye!\n"
     ]
    }
   ],
   "source": [
    "def stream_graph_updates(user_input: str):\n",
    "    for event in graph.stream({\"messages\": [{\"role\": \"user\", \"content\": user_input}]}):\n",
    "        for value in event.values():\n",
    "            print(\"Assistant:\", value[\"messages\"][-1].content)\n",
    "\n",
    "while True:\n",
    "    try:\n",
    "        user_input = input(\"User: \")\n",
    "        if user_input.lower() in [\"quit\", \"exit\", \"q\"]:\n",
    "            print(\"Goodbye!\")\n",
    "            break\n",
    "        stream_graph_updates(user_input)\n",
    "    except:\n",
    "        # fallback if input() is not available\n",
    "        user_input = \"What is the weather in Singapore\"\n",
    "        print(\"User: \" + user_input)\n",
    "        stream_graph_updates(user_input)\n",
    "        break"
   ]
  }
 ],
 "metadata": {
  "kernelspec": {
   "display_name": "langgraph",
   "language": "python",
   "name": "python3"
  },
  "language_info": {
   "codemirror_mode": {
    "name": "ipython",
    "version": 3
   },
   "file_extension": ".py",
   "mimetype": "text/x-python",
   "name": "python",
   "nbconvert_exporter": "python",
   "pygments_lexer": "ipython3",
   "version": "3.12.0"
  }
 },
 "nbformat": 4,
 "nbformat_minor": 5
}
